{
 "cells": [
  {
   "cell_type": "markdown",
   "metadata": {},
   "source": [
    "# Project Overview\n",
    "\n",
    "# FordGoBike System Data Investigation\n",
    "\n",
    "The FordGoBikeSystem dataset includes information about individual rides made in a bike-sharing system covering the greater San Francisco Bay area.\n",
    "\n",
    "The Dataset consists of the following datapoints:\n",
    "\n",
    "Trip Duration (seconds)\n",
    "\n",
    "Start Time and Date\n",
    "\n",
    "End Time and Date\n",
    "\n",
    "Start Station ID\n",
    "\n",
    "Start Station Name\n",
    "\n",
    "Start Station Latitude\n",
    "\n",
    "Start Station Longitude\n",
    "\n",
    "End Station ID\n",
    "\n",
    "End Station Name\n",
    "\n",
    "End Station Latitude\n",
    "\n",
    "End Station Longitude\n",
    "\n",
    "Bike ID\n",
    "\n",
    "User Type (Subscriber or Customer – “Subscriber” = Member or “Customer” = Casual)\n",
    "\n",
    "My investigation is aimed at drawing relationships between differnt variables that potentially analyze the factors that correspond to the profitability of the high demand stations and low demand stations.\n",
    "\n",
    "For example for the station_id with the highest demand, we can find which hour of the day does this station_id see the highest and lowest demand, we can also draw some relationship between the station_id with the lowest demand to determine if that is a viable station to still keep basically this can help make business decisions about whether to keep that station or lose it to gain a different one that helps business."
   ]
  },
  {
   "cell_type": "code",
   "execution_count": 37,
   "metadata": {},
   "outputs": [],
   "source": [
    "# import all packages\n",
    "import numpy as np\n",
    "import pandas as pd\n",
    "import matplotlib.pyplot as plt\n",
    "import seaborn as sb\n",
    "import glob\n",
    "import os\n",
    "\n",
    "%matplotlib inline"
   ]
  },
  {
   "cell_type": "code",
   "execution_count": 59,
   "metadata": {},
   "outputs": [
    {
     "name": "stderr",
     "output_type": "stream",
     "text": [
      "/opt/anaconda3/lib/python3.7/site-packages/IPython/core/interactiveshell.py:3063: DtypeWarning: Columns (13,14) have mixed types.Specify dtype option on import or set low_memory=False.\n",
      "  interactivity=interactivity, compiler=compiler, result=result)\n"
     ]
    }
   ],
   "source": [
    "df = pd.read_csv('master_file.csv')"
   ]
  },
  {
   "cell_type": "code",
   "execution_count": 60,
   "metadata": {},
   "outputs": [
    {
     "name": "stdout",
     "output_type": "stream",
     "text": [
      "<class 'pandas.core.frame.DataFrame'>\n",
      "RangeIndex: 2506983 entries, 0 to 2506982\n",
      "Data columns (total 15 columns):\n",
      " #   Column                   Dtype  \n",
      "---  ------                   -----  \n",
      " 0   duration_sec             int64  \n",
      " 1   start_time               object \n",
      " 2   end_time                 object \n",
      " 3   start_station_id         float64\n",
      " 4   start_station_name       object \n",
      " 5   start_station_latitude   float64\n",
      " 6   start_station_longitude  float64\n",
      " 7   end_station_id           float64\n",
      " 8   end_station_name         object \n",
      " 9   end_station_latitude     float64\n",
      " 10  end_station_longitude    float64\n",
      " 11  bike_id                  int64  \n",
      " 12  user_type                object \n",
      " 13  bike_share_for_all_trip  object \n",
      " 14  rental_access_method     object \n",
      "dtypes: float64(6), int64(2), object(7)\n",
      "memory usage: 286.9+ MB\n"
     ]
    }
   ],
   "source": [
    "df.info()"
   ]
  },
  {
   "cell_type": "code",
   "execution_count": 67,
   "metadata": {},
   "outputs": [
    {
     "data": {
      "text/plain": [
       "(2506983, 15)"
      ]
     },
     "execution_count": 67,
     "metadata": {},
     "output_type": "execute_result"
    }
   ],
   "source": [
    "df.shape"
   ]
  },
  {
   "cell_type": "code",
   "execution_count": 61,
   "metadata": {},
   "outputs": [],
   "source": [
    "df_clean = df.copy()"
   ]
  },
  {
   "cell_type": "markdown",
   "metadata": {},
   "source": [
    "# Cleaning Quality Issue\n",
    "\n",
    "# Correcting the datatypes of the variables appropriately"
   ]
  },
  {
   "cell_type": "code",
   "execution_count": 75,
   "metadata": {},
   "outputs": [],
   "source": [
    "df_clean.start_time = pd.to_datetime(df_clean.start_time)\n",
    "df_clean.end_time = pd.to_datetime(df_clean.end_time)"
   ]
  },
  {
   "cell_type": "code",
   "execution_count": 72,
   "metadata": {},
   "outputs": [
    {
     "name": "stderr",
     "output_type": "stream",
     "text": [
      "/opt/anaconda3/lib/python3.7/site-packages/pandas/core/generic.py:5303: SettingWithCopyWarning: \n",
      "A value is trying to be set on a copy of a slice from a DataFrame.\n",
      "Try using .loc[row_indexer,col_indexer] = value instead\n",
      "\n",
      "See the caveats in the documentation: https://pandas.pydata.org/pandas-docs/stable/user_guide/indexing.html#returning-a-view-versus-a-copy\n",
      "  self[name] = value\n"
     ]
    }
   ],
   "source": [
    "df_clean.start_station_id = df_clean.start_station_id.fillna(0)\n",
    "df_clean.end_station_id = df_clean.end_station_id.fillna(0)"
   ]
  },
  {
   "cell_type": "code",
   "execution_count": 73,
   "metadata": {},
   "outputs": [],
   "source": [
    "df_clean.start_station_id = df_clean.start_station_id.astype(int)\n",
    "df_clean.end_station_id = df_clean.end_station_id.astype(int)"
   ]
  },
  {
   "cell_type": "code",
   "execution_count": 76,
   "metadata": {},
   "outputs": [],
   "source": [
    "df_clean['start_date'] = df_clean.start_time.dt.strftime('%Y-%m-%d')\n",
    "df_clean['start_hour_day'] = df_clean.start_time.dt.strftime('%H')\n",
    "df_clean['end_hour_day'] = df_clean.end_time.dt.strftime('%H')\n",
    "df_clean['start_day_week'] = df_clean.start_time.dt.strftime('%A')\n",
    "df_clean['start_month'] =  df_clean.start_time.dt.strftime('%B')\n",
    "df_clean['year'] = df_clean.start_time.dt.strftime('%Y')"
   ]
  },
  {
   "cell_type": "code",
   "execution_count": 77,
   "metadata": {},
   "outputs": [],
   "source": [
    "df_clean = df_clean[df_clean.rental_access_method.notnull()]"
   ]
  },
  {
   "cell_type": "code",
   "execution_count": 78,
   "metadata": {},
   "outputs": [
    {
     "data": {
      "text/plain": [
       "(120838, 21)"
      ]
     },
     "execution_count": 78,
     "metadata": {},
     "output_type": "execute_result"
    }
   ],
   "source": [
    "df_clean.shape"
   ]
  },
  {
   "cell_type": "markdown",
   "metadata": {},
   "source": [
    "# Visualizations"
   ]
  },
  {
   "cell_type": "markdown",
   "metadata": {},
   "source": [
    "# For the station that sees the highest demand, what is the time of the day where it faces a high demand volume?"
   ]
  },
  {
   "cell_type": "code",
   "execution_count": 79,
   "metadata": {},
   "outputs": [
    {
     "data": {
      "text/plain": [
       "0      79989\n",
       "296     1365\n",
       "312      931\n",
       "81       918\n",
       "67       777\n",
       "       ...  \n",
       "490        1\n",
       "432        1\n",
       "224        1\n",
       "472        1\n",
       "471        1\n",
       "Name: start_station_id, Length: 418, dtype: int64"
      ]
     },
     "execution_count": 79,
     "metadata": {},
     "output_type": "execute_result"
    }
   ],
   "source": [
    "df_clean.start_station_id.value_counts(sort=True)"
   ]
  },
  {
   "cell_type": "code",
   "execution_count": 80,
   "metadata": {},
   "outputs": [],
   "source": [
    "df_maxstart_station = df_clean[df_clean.start_station_id == 296]"
   ]
  },
  {
   "cell_type": "code",
   "execution_count": 81,
   "metadata": {},
   "outputs": [
    {
     "data": {
      "text/html": [
       "<div>\n",
       "<style scoped>\n",
       "    .dataframe tbody tr th:only-of-type {\n",
       "        vertical-align: middle;\n",
       "    }\n",
       "\n",
       "    .dataframe tbody tr th {\n",
       "        vertical-align: top;\n",
       "    }\n",
       "\n",
       "    .dataframe thead th {\n",
       "        text-align: right;\n",
       "    }\n",
       "</style>\n",
       "<table border=\"1\" class=\"dataframe\">\n",
       "  <thead>\n",
       "    <tr style=\"text-align: right;\">\n",
       "      <th></th>\n",
       "      <th>duration_sec</th>\n",
       "      <th>start_time</th>\n",
       "      <th>end_time</th>\n",
       "      <th>start_station_id</th>\n",
       "      <th>start_station_name</th>\n",
       "      <th>start_station_latitude</th>\n",
       "      <th>start_station_longitude</th>\n",
       "      <th>end_station_id</th>\n",
       "      <th>end_station_name</th>\n",
       "      <th>end_station_latitude</th>\n",
       "      <th>...</th>\n",
       "      <th>bike_id</th>\n",
       "      <th>user_type</th>\n",
       "      <th>bike_share_for_all_trip</th>\n",
       "      <th>rental_access_method</th>\n",
       "      <th>start_date</th>\n",
       "      <th>start_hour_day</th>\n",
       "      <th>end_hour_day</th>\n",
       "      <th>start_day_week</th>\n",
       "      <th>start_month</th>\n",
       "      <th>year</th>\n",
       "    </tr>\n",
       "  </thead>\n",
       "  <tbody>\n",
       "    <tr>\n",
       "      <th>628936</th>\n",
       "      <td>282</td>\n",
       "      <td>2019-07-16 18:53:51</td>\n",
       "      <td>2019-07-16 18:58:34</td>\n",
       "      <td>296</td>\n",
       "      <td>5th St at Virginia St</td>\n",
       "      <td>37.325998</td>\n",
       "      <td>-121.87712</td>\n",
       "      <td>0</td>\n",
       "      <td>1st St at San Carlos Ave</td>\n",
       "      <td>37.331035</td>\n",
       "      <td>...</td>\n",
       "      <td>499829</td>\n",
       "      <td>Customer</td>\n",
       "      <td>NaN</td>\n",
       "      <td>app</td>\n",
       "      <td>2019-07-16</td>\n",
       "      <td>18</td>\n",
       "      <td>18</td>\n",
       "      <td>Tuesday</td>\n",
       "      <td>July</td>\n",
       "      <td>2019</td>\n",
       "    </tr>\n",
       "    <tr>\n",
       "      <th>628937</th>\n",
       "      <td>620</td>\n",
       "      <td>2019-07-12 19:40:59</td>\n",
       "      <td>2019-07-12 19:51:20</td>\n",
       "      <td>296</td>\n",
       "      <td>5th St at Virginia St</td>\n",
       "      <td>37.325998</td>\n",
       "      <td>-121.87712</td>\n",
       "      <td>311</td>\n",
       "      <td>Paseo De San Antonio at 2nd St</td>\n",
       "      <td>37.333798</td>\n",
       "      <td>...</td>\n",
       "      <td>680326</td>\n",
       "      <td>Subscriber</td>\n",
       "      <td>NaN</td>\n",
       "      <td>app</td>\n",
       "      <td>2019-07-12</td>\n",
       "      <td>19</td>\n",
       "      <td>19</td>\n",
       "      <td>Friday</td>\n",
       "      <td>July</td>\n",
       "      <td>2019</td>\n",
       "    </tr>\n",
       "    <tr>\n",
       "      <th>628938</th>\n",
       "      <td>1178</td>\n",
       "      <td>2019-07-10 16:33:29</td>\n",
       "      <td>2019-07-10 16:53:08</td>\n",
       "      <td>296</td>\n",
       "      <td>5th St at Virginia St</td>\n",
       "      <td>37.325998</td>\n",
       "      <td>-121.87712</td>\n",
       "      <td>276</td>\n",
       "      <td>Julian St at The Alameda</td>\n",
       "      <td>37.332233</td>\n",
       "      <td>...</td>\n",
       "      <td>664682</td>\n",
       "      <td>Subscriber</td>\n",
       "      <td>NaN</td>\n",
       "      <td>app</td>\n",
       "      <td>2019-07-10</td>\n",
       "      <td>16</td>\n",
       "      <td>16</td>\n",
       "      <td>Wednesday</td>\n",
       "      <td>July</td>\n",
       "      <td>2019</td>\n",
       "    </tr>\n",
       "    <tr>\n",
       "      <th>628939</th>\n",
       "      <td>819</td>\n",
       "      <td>2019-07-15 23:31:36</td>\n",
       "      <td>2019-07-15 23:45:15</td>\n",
       "      <td>296</td>\n",
       "      <td>5th St at Virginia St</td>\n",
       "      <td>37.325998</td>\n",
       "      <td>-121.87712</td>\n",
       "      <td>308</td>\n",
       "      <td>San Pedro Square</td>\n",
       "      <td>37.336802</td>\n",
       "      <td>...</td>\n",
       "      <td>421921</td>\n",
       "      <td>Subscriber</td>\n",
       "      <td>NaN</td>\n",
       "      <td>app</td>\n",
       "      <td>2019-07-15</td>\n",
       "      <td>23</td>\n",
       "      <td>23</td>\n",
       "      <td>Monday</td>\n",
       "      <td>July</td>\n",
       "      <td>2019</td>\n",
       "    </tr>\n",
       "    <tr>\n",
       "      <th>628940</th>\n",
       "      <td>550</td>\n",
       "      <td>2019-07-17 08:59:16</td>\n",
       "      <td>2019-07-17 09:08:26</td>\n",
       "      <td>296</td>\n",
       "      <td>5th St at Virginia St</td>\n",
       "      <td>37.325998</td>\n",
       "      <td>-121.87712</td>\n",
       "      <td>0</td>\n",
       "      <td>1st St at San Carlos Ave</td>\n",
       "      <td>37.331149</td>\n",
       "      <td>...</td>\n",
       "      <td>734415</td>\n",
       "      <td>Subscriber</td>\n",
       "      <td>NaN</td>\n",
       "      <td>app</td>\n",
       "      <td>2019-07-17</td>\n",
       "      <td>08</td>\n",
       "      <td>09</td>\n",
       "      <td>Wednesday</td>\n",
       "      <td>July</td>\n",
       "      <td>2019</td>\n",
       "    </tr>\n",
       "    <tr>\n",
       "      <th>...</th>\n",
       "      <td>...</td>\n",
       "      <td>...</td>\n",
       "      <td>...</td>\n",
       "      <td>...</td>\n",
       "      <td>...</td>\n",
       "      <td>...</td>\n",
       "      <td>...</td>\n",
       "      <td>...</td>\n",
       "      <td>...</td>\n",
       "      <td>...</td>\n",
       "      <td>...</td>\n",
       "      <td>...</td>\n",
       "      <td>...</td>\n",
       "      <td>...</td>\n",
       "      <td>...</td>\n",
       "      <td>...</td>\n",
       "      <td>...</td>\n",
       "      <td>...</td>\n",
       "      <td>...</td>\n",
       "      <td>...</td>\n",
       "      <td>...</td>\n",
       "    </tr>\n",
       "    <tr>\n",
       "      <th>2322379</th>\n",
       "      <td>264</td>\n",
       "      <td>2019-11-25 23:18:37</td>\n",
       "      <td>2019-11-25 23:23:02</td>\n",
       "      <td>296</td>\n",
       "      <td>5th St at Virginia St</td>\n",
       "      <td>37.325998</td>\n",
       "      <td>-121.87712</td>\n",
       "      <td>296</td>\n",
       "      <td>5th St at Virginia St</td>\n",
       "      <td>37.325998</td>\n",
       "      <td>...</td>\n",
       "      <td>842581</td>\n",
       "      <td>Subscriber</td>\n",
       "      <td>NaN</td>\n",
       "      <td>app</td>\n",
       "      <td>2019-11-25</td>\n",
       "      <td>23</td>\n",
       "      <td>23</td>\n",
       "      <td>Monday</td>\n",
       "      <td>November</td>\n",
       "      <td>2019</td>\n",
       "    </tr>\n",
       "    <tr>\n",
       "      <th>2322380</th>\n",
       "      <td>745</td>\n",
       "      <td>2019-11-27 13:02:52</td>\n",
       "      <td>2019-11-27 13:15:17</td>\n",
       "      <td>296</td>\n",
       "      <td>5th St at Virginia St</td>\n",
       "      <td>37.325998</td>\n",
       "      <td>-121.87712</td>\n",
       "      <td>310</td>\n",
       "      <td>San Fernando St at 4th St</td>\n",
       "      <td>37.335885</td>\n",
       "      <td>...</td>\n",
       "      <td>481459</td>\n",
       "      <td>Subscriber</td>\n",
       "      <td>NaN</td>\n",
       "      <td>clipper</td>\n",
       "      <td>2019-11-27</td>\n",
       "      <td>13</td>\n",
       "      <td>13</td>\n",
       "      <td>Wednesday</td>\n",
       "      <td>November</td>\n",
       "      <td>2019</td>\n",
       "    </tr>\n",
       "    <tr>\n",
       "      <th>2322381</th>\n",
       "      <td>174</td>\n",
       "      <td>2019-11-25 22:23:55</td>\n",
       "      <td>2019-11-25 22:26:49</td>\n",
       "      <td>296</td>\n",
       "      <td>5th St at Virginia St</td>\n",
       "      <td>37.325998</td>\n",
       "      <td>-121.87712</td>\n",
       "      <td>296</td>\n",
       "      <td>5th St at Virginia St</td>\n",
       "      <td>37.325998</td>\n",
       "      <td>...</td>\n",
       "      <td>190225</td>\n",
       "      <td>Subscriber</td>\n",
       "      <td>NaN</td>\n",
       "      <td>app</td>\n",
       "      <td>2019-11-25</td>\n",
       "      <td>22</td>\n",
       "      <td>22</td>\n",
       "      <td>Monday</td>\n",
       "      <td>November</td>\n",
       "      <td>2019</td>\n",
       "    </tr>\n",
       "    <tr>\n",
       "      <th>2322382</th>\n",
       "      <td>540</td>\n",
       "      <td>2019-11-29 09:19:56</td>\n",
       "      <td>2019-11-29 09:28:57</td>\n",
       "      <td>296</td>\n",
       "      <td>5th St at Virginia St</td>\n",
       "      <td>37.325998</td>\n",
       "      <td>-121.87712</td>\n",
       "      <td>341</td>\n",
       "      <td>Fountain Alley at S 2nd St</td>\n",
       "      <td>37.336188</td>\n",
       "      <td>...</td>\n",
       "      <td>100235</td>\n",
       "      <td>Subscriber</td>\n",
       "      <td>NaN</td>\n",
       "      <td>app</td>\n",
       "      <td>2019-11-29</td>\n",
       "      <td>09</td>\n",
       "      <td>09</td>\n",
       "      <td>Friday</td>\n",
       "      <td>November</td>\n",
       "      <td>2019</td>\n",
       "    </tr>\n",
       "    <tr>\n",
       "      <th>2322383</th>\n",
       "      <td>430</td>\n",
       "      <td>2019-11-28 16:53:39</td>\n",
       "      <td>2019-11-28 17:00:50</td>\n",
       "      <td>296</td>\n",
       "      <td>5th St at Virginia St</td>\n",
       "      <td>37.325998</td>\n",
       "      <td>-121.87712</td>\n",
       "      <td>296</td>\n",
       "      <td>5th St at Virginia St</td>\n",
       "      <td>37.325998</td>\n",
       "      <td>...</td>\n",
       "      <td>523386</td>\n",
       "      <td>Subscriber</td>\n",
       "      <td>NaN</td>\n",
       "      <td>app</td>\n",
       "      <td>2019-11-28</td>\n",
       "      <td>16</td>\n",
       "      <td>17</td>\n",
       "      <td>Thursday</td>\n",
       "      <td>November</td>\n",
       "      <td>2019</td>\n",
       "    </tr>\n",
       "  </tbody>\n",
       "</table>\n",
       "<p>1365 rows × 21 columns</p>\n",
       "</div>"
      ],
      "text/plain": [
       "         duration_sec          start_time            end_time  \\\n",
       "628936            282 2019-07-16 18:53:51 2019-07-16 18:58:34   \n",
       "628937            620 2019-07-12 19:40:59 2019-07-12 19:51:20   \n",
       "628938           1178 2019-07-10 16:33:29 2019-07-10 16:53:08   \n",
       "628939            819 2019-07-15 23:31:36 2019-07-15 23:45:15   \n",
       "628940            550 2019-07-17 08:59:16 2019-07-17 09:08:26   \n",
       "...               ...                 ...                 ...   \n",
       "2322379           264 2019-11-25 23:18:37 2019-11-25 23:23:02   \n",
       "2322380           745 2019-11-27 13:02:52 2019-11-27 13:15:17   \n",
       "2322381           174 2019-11-25 22:23:55 2019-11-25 22:26:49   \n",
       "2322382           540 2019-11-29 09:19:56 2019-11-29 09:28:57   \n",
       "2322383           430 2019-11-28 16:53:39 2019-11-28 17:00:50   \n",
       "\n",
       "         start_station_id     start_station_name  start_station_latitude  \\\n",
       "628936                296  5th St at Virginia St               37.325998   \n",
       "628937                296  5th St at Virginia St               37.325998   \n",
       "628938                296  5th St at Virginia St               37.325998   \n",
       "628939                296  5th St at Virginia St               37.325998   \n",
       "628940                296  5th St at Virginia St               37.325998   \n",
       "...                   ...                    ...                     ...   \n",
       "2322379               296  5th St at Virginia St               37.325998   \n",
       "2322380               296  5th St at Virginia St               37.325998   \n",
       "2322381               296  5th St at Virginia St               37.325998   \n",
       "2322382               296  5th St at Virginia St               37.325998   \n",
       "2322383               296  5th St at Virginia St               37.325998   \n",
       "\n",
       "         start_station_longitude  end_station_id  \\\n",
       "628936                -121.87712               0   \n",
       "628937                -121.87712             311   \n",
       "628938                -121.87712             276   \n",
       "628939                -121.87712             308   \n",
       "628940                -121.87712               0   \n",
       "...                          ...             ...   \n",
       "2322379               -121.87712             296   \n",
       "2322380               -121.87712             310   \n",
       "2322381               -121.87712             296   \n",
       "2322382               -121.87712             341   \n",
       "2322383               -121.87712             296   \n",
       "\n",
       "                       end_station_name  end_station_latitude  ...  bike_id  \\\n",
       "628936         1st St at San Carlos Ave             37.331035  ...   499829   \n",
       "628937   Paseo De San Antonio at 2nd St             37.333798  ...   680326   \n",
       "628938         Julian St at The Alameda             37.332233  ...   664682   \n",
       "628939                 San Pedro Square             37.336802  ...   421921   \n",
       "628940         1st St at San Carlos Ave             37.331149  ...   734415   \n",
       "...                                 ...                   ...  ...      ...   \n",
       "2322379           5th St at Virginia St             37.325998  ...   842581   \n",
       "2322380       San Fernando St at 4th St             37.335885  ...   481459   \n",
       "2322381           5th St at Virginia St             37.325998  ...   190225   \n",
       "2322382      Fountain Alley at S 2nd St             37.336188  ...   100235   \n",
       "2322383           5th St at Virginia St             37.325998  ...   523386   \n",
       "\n",
       "          user_type bike_share_for_all_trip rental_access_method  start_date  \\\n",
       "628936     Customer                     NaN                  app  2019-07-16   \n",
       "628937   Subscriber                     NaN                  app  2019-07-12   \n",
       "628938   Subscriber                     NaN                  app  2019-07-10   \n",
       "628939   Subscriber                     NaN                  app  2019-07-15   \n",
       "628940   Subscriber                     NaN                  app  2019-07-17   \n",
       "...             ...                     ...                  ...         ...   \n",
       "2322379  Subscriber                     NaN                  app  2019-11-25   \n",
       "2322380  Subscriber                     NaN              clipper  2019-11-27   \n",
       "2322381  Subscriber                     NaN                  app  2019-11-25   \n",
       "2322382  Subscriber                     NaN                  app  2019-11-29   \n",
       "2322383  Subscriber                     NaN                  app  2019-11-28   \n",
       "\n",
       "        start_hour_day end_hour_day start_day_week start_month  year  \n",
       "628936              18           18        Tuesday        July  2019  \n",
       "628937              19           19         Friday        July  2019  \n",
       "628938              16           16      Wednesday        July  2019  \n",
       "628939              23           23         Monday        July  2019  \n",
       "628940              08           09      Wednesday        July  2019  \n",
       "...                ...          ...            ...         ...   ...  \n",
       "2322379             23           23         Monday    November  2019  \n",
       "2322380             13           13      Wednesday    November  2019  \n",
       "2322381             22           22         Monday    November  2019  \n",
       "2322382             09           09         Friday    November  2019  \n",
       "2322383             16           17       Thursday    November  2019  \n",
       "\n",
       "[1365 rows x 21 columns]"
      ]
     },
     "execution_count": 81,
     "metadata": {},
     "output_type": "execute_result"
    }
   ],
   "source": [
    "df_maxstart_station"
   ]
  },
  {
   "cell_type": "code",
   "execution_count": 82,
   "metadata": {},
   "outputs": [
    {
     "data": {
      "image/png": "[encoded data removed]",
      "text/plain": [
       "<Figure size 720x360 with 1 Axes>"
      ]
     },
     "metadata": {},
     "output_type": "display_data"
    }
   ],
   "source": [
    "plt.rcParams['figure.figsize'] = 10, 5\n",
    "base_color = sb.color_palette('YlGn_r')[0]\n",
    "sb.set_style('darkgrid')\n",
    "\n",
    "sb.countplot(data=df_maxstart_station, x='start_hour_day', color=base_color);\n",
    "plt.xlabel('Station IDs');\n",
    "plt.ylabel('Count');"
   ]
  },
  {
   "cell_type": "markdown",
   "metadata": {},
   "source": [
    "So, this stations has the highest demand during the morning times mostly around 7-9am and in the evenings at around 5pm. This is understandable, given that those are the commute hours for the office, school and college going population"
   ]
  },
  {
   "cell_type": "markdown",
   "metadata": {},
   "source": [
    "# For the station that sees the highest demand, which day of the week has a high demand volume?"
   ]
  },
  {
   "cell_type": "code",
   "execution_count": 95,
   "metadata": {},
   "outputs": [
    {
     "data": {
      "image/png": "[encoded data removed]",
      "text/plain": [
       "<Figure size 720x360 with 1 Axes>"
      ]
     },
     "metadata": {},
     "output_type": "display_data"
    }
   ],
   "source": [
    "plt.rcParams['figure.figsize'] = 10, 5\n",
    "base_color = sb.color_palette('YlGn_r')[0]\n",
    "sb.set_style('darkgrid')\n",
    "\n",
    "sb.countplot(data=df_maxstart_station, x='start_day_week', color=base_color);\n",
    "plt.xlabel('Station IDs');\n",
    "plt.ylabel('Count');"
   ]
  },
  {
   "cell_type": "markdown",
   "metadata": {},
   "source": [
    "For this station,the highest demand was on Tuesdays followed by Thursdays. The least demand was on Sundays. "
   ]
  },
  {
   "cell_type": "markdown",
   "metadata": {},
   "source": [
    "# The User_type who use this station the most"
   ]
  },
  {
   "cell_type": "code",
   "execution_count": 83,
   "metadata": {},
   "outputs": [
    {
     "data": {
      "text/plain": [
       "<matplotlib.axes._subplots.AxesSubplot at 0x1ad43c5550>"
      ]
     },
     "execution_count": 83,
     "metadata": {},
     "output_type": "execute_result"
    },
    {
     "data": {
      "image/png": "[encoded data removed]",
      "text/plain": [
       "<Figure size 720x360 with 1 Axes>"
      ]
     },
     "metadata": {},
     "output_type": "display_data"
    }
   ],
   "source": [
    "sb.countplot(x='user_type', data=df_clean)"
   ]
  },
  {
   "cell_type": "markdown",
   "metadata": {},
   "source": [
    "# Hourly usage of the bikes by Customers and Subscribers in this station"
   ]
  },
  {
   "cell_type": "code",
   "execution_count": 93,
   "metadata": {},
   "outputs": [
    {
     "data": {
      "image/png": "[encoded data removed]",
      "text/plain": [
       "<Figure size 720x720 with 4 Axes>"
      ]
     },
     "metadata": {},
     "output_type": "display_data"
    }
   ],
   "source": [
    "plt.figure(figsize=[10, 10]);\n",
    "\n",
    "plt.subplot(2, 1, 1)\n",
    "customers = df_maxstart_station.query('user_type == \"Customer\"')\n",
    "cus_count = customers.groupby(['start_day_week', 'start_hour_day']).size()\n",
    "cus_count = cus_count.reset_index(name='count')\n",
    "cus_count = cus_count.pivot(index='start_day_week', columns='start_hour_day', values='count')\n",
    "sb.heatmap(cus_count, cmap='rainbow_r');\n",
    "plt.title('Customer');\n",
    "plt.xlabel('Hour of Day');\n",
    "plt.ylabel('Day of Week');\n",
    "plt.tight_layout();\n",
    "\n",
    "plt.subplot(2, 1, 2)\n",
    "subscribers = df_maxstart_station.query('user_type == \"Subscriber\"')\n",
    "sub_count = subscribers.groupby(['start_day_week', 'start_hour_day']).size()\n",
    "sub_count = sub_count.reset_index(name='count')\n",
    "sub_count = sub_count.pivot(index='start_day_week', columns='start_hour_day', values='count')\n",
    "sb.heatmap(sub_count, cmap='rainbow_r');\n",
    "plt.title('Subscriber');\n",
    "plt.xlabel('Hour of Day');\n",
    "plt.ylabel('Day of Week');\n",
    "plt.tight_layout();\n",
    "plt.suptitle('Hourly Usage during Weekdays for Customers and Subscribers', fontsize=14, fontweight='semibold', y=1.015);"
   ]
  },
  {
   "cell_type": "markdown",
   "metadata": {},
   "source": [
    "# Distribution of usage for the station with the lowest demand"
   ]
  },
  {
   "cell_type": "code",
   "execution_count": 87,
   "metadata": {},
   "outputs": [
    {
     "data": {
      "text/plain": [
       "0      79989\n",
       "296     1365\n",
       "312      931\n",
       "81       918\n",
       "67       777\n",
       "       ...  \n",
       "490        1\n",
       "432        1\n",
       "224        1\n",
       "472        1\n",
       "471        1\n",
       "Name: start_station_id, Length: 418, dtype: int64"
      ]
     },
     "execution_count": 87,
     "metadata": {},
     "output_type": "execute_result"
    }
   ],
   "source": [
    "df_clean.start_station_id.value_counts(sort=True)"
   ]
  },
  {
   "cell_type": "code",
   "execution_count": 84,
   "metadata": {},
   "outputs": [],
   "source": [
    "df_minstart_station = df_clean[df_clean.start_station_id == 471]"
   ]
  },
  {
   "cell_type": "code",
   "execution_count": 85,
   "metadata": {},
   "outputs": [
    {
     "data": {
      "text/html": [
       "<div>\n",
       "<style scoped>\n",
       "    .dataframe tbody tr th:only-of-type {\n",
       "        vertical-align: middle;\n",
       "    }\n",
       "\n",
       "    .dataframe tbody tr th {\n",
       "        vertical-align: top;\n",
       "    }\n",
       "\n",
       "    .dataframe thead th {\n",
       "        text-align: right;\n",
       "    }\n",
       "</style>\n",
       "<table border=\"1\" class=\"dataframe\">\n",
       "  <thead>\n",
       "    <tr style=\"text-align: right;\">\n",
       "      <th></th>\n",
       "      <th>duration_sec</th>\n",
       "      <th>start_time</th>\n",
       "      <th>end_time</th>\n",
       "      <th>start_station_id</th>\n",
       "      <th>start_station_name</th>\n",
       "      <th>start_station_latitude</th>\n",
       "      <th>start_station_longitude</th>\n",
       "      <th>end_station_id</th>\n",
       "      <th>end_station_name</th>\n",
       "      <th>end_station_latitude</th>\n",
       "      <th>...</th>\n",
       "      <th>bike_id</th>\n",
       "      <th>user_type</th>\n",
       "      <th>bike_share_for_all_trip</th>\n",
       "      <th>rental_access_method</th>\n",
       "      <th>start_date</th>\n",
       "      <th>start_hour_day</th>\n",
       "      <th>end_hour_day</th>\n",
       "      <th>start_day_week</th>\n",
       "      <th>start_month</th>\n",
       "      <th>year</th>\n",
       "    </tr>\n",
       "  </thead>\n",
       "  <tbody>\n",
       "    <tr>\n",
       "      <th>2131293</th>\n",
       "      <td>1696</td>\n",
       "      <td>2019-12-28 14:47:38</td>\n",
       "      <td>2019-12-28 15:15:54</td>\n",
       "      <td>471</td>\n",
       "      <td>Turk Blvd at Stanyan St</td>\n",
       "      <td>37.777609</td>\n",
       "      <td>-122.454622</td>\n",
       "      <td>0</td>\n",
       "      <td>NaN</td>\n",
       "      <td>37.789848</td>\n",
       "      <td>...</td>\n",
       "      <td>493329</td>\n",
       "      <td>Customer</td>\n",
       "      <td>NaN</td>\n",
       "      <td>app</td>\n",
       "      <td>2019-12-28</td>\n",
       "      <td>14</td>\n",
       "      <td>15</td>\n",
       "      <td>Saturday</td>\n",
       "      <td>December</td>\n",
       "      <td>2019</td>\n",
       "    </tr>\n",
       "  </tbody>\n",
       "</table>\n",
       "<p>1 rows × 21 columns</p>\n",
       "</div>"
      ],
      "text/plain": [
       "         duration_sec          start_time            end_time  \\\n",
       "2131293          1696 2019-12-28 14:47:38 2019-12-28 15:15:54   \n",
       "\n",
       "         start_station_id       start_station_name  start_station_latitude  \\\n",
       "2131293               471  Turk Blvd at Stanyan St               37.777609   \n",
       "\n",
       "         start_station_longitude  end_station_id end_station_name  \\\n",
       "2131293              -122.454622               0              NaN   \n",
       "\n",
       "         end_station_latitude  ...  bike_id  user_type  \\\n",
       "2131293             37.789848  ...   493329   Customer   \n",
       "\n",
       "        bike_share_for_all_trip rental_access_method  start_date  \\\n",
       "2131293                     NaN                  app  2019-12-28   \n",
       "\n",
       "        start_hour_day end_hour_day start_day_week start_month  year  \n",
       "2131293             14           15       Saturday    December  2019  \n",
       "\n",
       "[1 rows x 21 columns]"
      ]
     },
     "execution_count": 85,
     "metadata": {},
     "output_type": "execute_result"
    }
   ],
   "source": [
    "df_minstart_station"
   ]
  },
  {
   "cell_type": "markdown",
   "metadata": {},
   "source": [
    "This station was last used on 2019-12-28 and it seems to have just one ride starting from this station and ending in station is not given hence 0. Hence it looks like this station might have been added towards the end of the year and hence it is important to gather more data on this station in the year 2020 to make a decision on whether this station is a profitable station or not for the business. "
   ]
  },
  {
   "cell_type": "markdown",
   "metadata": {},
   "source": [
    "# Summary\n",
    "\n",
    "Through my analysis here,we can see that we have analysed the station with highest demand and the station with lowest demand count in the year 2019 and used that to identify trends and patterns that provide valuable insights into the profitability of the station. "
   ]
  },
  {
   "cell_type": "code",
   "execution_count": null,
   "metadata": {},
   "outputs": [],
   "source": []
  }
 ],
 "metadata": {
  "kernelspec": {
   "display_name": "Python 3",
   "language": "python",
   "name": "python3"
  },
  "language_info": {
   "codemirror_mode": {
    "name": "ipython",
    "version": 3
   },
   "file_extension": ".py",
   "mimetype": "text/x-python",
   "name": "python",
   "nbconvert_exporter": "python",
   "pygments_lexer": "ipython3",
   "version": "3.7.6"
  }
 },
 "nbformat": 4,
 "nbformat_minor": 4
}
